{
 "cells": [
  {
   "cell_type": "code",
   "execution_count": 1,
   "metadata": {
    "collapsed": true
   },
   "outputs": [],
   "source": [
    "import pandas as pd\n",
    "import json\n",
    "import boto3\n",
    "import numpy as np\n",
    "from requests_aws4auth import AWS4Auth\n",
    "from datetime import datetime\n",
    "from elasticsearch import Elasticsearch, RequestsHttpConnection\n",
    "from elasticsearch.exceptions import TransportError\n",
    "from elasticsearch.helpers import streaming_bulk\n",
    "from elasticsearch_dsl import Search"
   ]
  },
  {
   "cell_type": "code",
   "execution_count": 2,
   "metadata": {
    "collapsed": true
   },
   "outputs": [],
   "source": [
    "endpoint = ('https://search-insightprojecttest-qcbe6ffjwxsdscktijg6uragwi.us-west-1.es.amazonaws.com')\n",
    "es = Elasticsearch(endpoint)"
   ]
  },
  {
   "cell_type": "code",
   "execution_count": 3,
   "metadata": {
    "collapsed": true
   },
   "outputs": [],
   "source": [
    "def load_mapping(j): \n",
    "    if j:\n",
    "        try:\n",
    "            with open(j) as f:\n",
    "                return(json.load(f))\n",
    "        except(FileNotFoundError, TypeError): \n",
    "            return(j)\n",
    "    else: \n",
    "        return {}\n",
    "    \n",
    "def create_index(client, index, mapping_all=None, mappings=None, \n",
    "                 settings=None, delete_index=False):\n",
    "\n",
    "    create_index_json = {}\n",
    "    if mapping_all: \n",
    "        create_index_json = load_mapping(mapping_all)\n",
    "    else: \n",
    "        mappings = load_mapping(mappings) if mappings else {}\n",
    "        if settings: \n",
    "            settings = load_mapping(settings) \n",
    "        else:\n",
    "            settings = {\n",
    "                'number_of_shards': 1,\n",
    "                'number_of_replicas': 0\n",
    "            }\n",
    "\n",
    "        create_index_json = {\n",
    "            'settings': settings,\n",
    "            'mappings': mappings\n",
    "        }\n",
    "    if delete_index:\n",
    "        try:\n",
    "            client.indices.delete(index = index)\n",
    "        except TransportError as e:\n",
    "            if e.error == 'index_not_found_exception': \n",
    "                pass\n",
    "        client.indices.create(\n",
    "                index = index,\n",
    "                body = create_index_json\n",
    "            )\n",
    "        return\n",
    "\n",
    "    try:\n",
    "        client.indices.create(\n",
    "            index = index,\n",
    "            body = create_index_json\n",
    "        )\n",
    "    except TransportError as e:\n",
    "        if e.error == 'index_already_exists_exception':\n",
    "            pass\n",
    "        else:\n",
    "            raise\n",
    "            \n",
    "def load_items(client, \n",
    "               index,  \n",
    "               parse_function, \n",
    "               doc_type='doc',\n",
    "               verbose=False): \n",
    "    stats = {\n",
    "        'success': 0, \n",
    "        'fail': 0\n",
    "    }\n",
    "    error = []\n",
    "    for ok, result in streaming_bulk(\n",
    "        client, \n",
    "        parse_function(), \n",
    "        index=index, \n",
    "        doc_type=doc_type,\n",
    "        chunk_size=50\n",
    "    ): \n",
    "        action, result = result.popitem()\n",
    "        doc_id = '/%s/doc/%s' % (index, result['_id'])\n",
    "        if not ok: \n",
    "            stats['fail'] += 1\n",
    "            if verbose: \n",
    "                error.append((action, result))\n",
    "            print(action, result)\n",
    "        else: \n",
    "            stats['success'] += 1"
   ]
  },
  {
   "cell_type": "code",
   "execution_count": 30,
   "metadata": {},
   "outputs": [
    {
     "name": "stderr",
     "output_type": "stream",
     "text": [
      "DELETE https://search-insightprojecttest-qcbe6ffjwxsdscktijg6uragwi.us-west-1.es.amazonaws.com:443/ingredient_2 [status:404 request:0.279s]\n"
     ]
    }
   ],
   "source": [
    "ind = []\n",
    "def parse_ingredient(file_name='ingredients_bigram_3.json'):\n",
    "    with open(file_name) as f:\n",
    "        for line in f: \n",
    "            a = (json.loads(line))\n",
    "            yield(a)\n",
    "        \n",
    "create_index(es, 'ingredient_2', mapping_all=None, settings=None,\n",
    "             delete_index=True)\n",
    "load_items(es, 'ingredient_2', parse_ingredient)"
   ]
  },
  {
   "cell_type": "code",
   "execution_count": 25,
   "metadata": {},
   "outputs": [],
   "source": [
    "def parse_product(file_name='data/sephora.jl'):\n",
    "    with open(file_name) as f: \n",
    "        for product in f:\n",
    "            product = json.loads(product)\n",
    "            if not product['ingredients']: \n",
    "                continue\n",
    "            if 'reviews' in product:\n",
    "                del product['reviews']\n",
    "            yield(product)\n",
    "\n",
    "create_index(es, 'product', mapping_all=None, settings=None,\n",
    "             delete_index=True)\n",
    "load_items(es, 'product', parse_product)"
   ]
  },
  {
   "cell_type": "code",
   "execution_count": 43,
   "metadata": {
    "collapsed": true
   },
   "outputs": [],
   "source": [
    "query = {\n",
    "  \"from\": 0, \n",
    "  \"size\": 1,\n",
    "  \"query\": {\n",
    "    \"bool\": {\n",
    "      \"should\": [\n",
    "        {\n",
    "          \"term\": {\n",
    "            \"name.keyword\": {\n",
    "              \"value\": \"ferula assa foetida\", \n",
    "              \"boost\": 100\n",
    "            }\n",
    "          }\n",
    "        },\n",
    "        {\n",
    "          \"match_phrase\": {\n",
    "            \"name\": {\n",
    "              \"query\": \"ferula assa foetida\",\n",
    "              \"boost\": 50\n",
    "            }\n",
    "          }\n",
    "        },\n",
    "        {\n",
    "          \"match\": {\n",
    "            \"name\": {\n",
    "              \"query\": \"ferula assa foetida\",\n",
    "              \"operator\": \"and\", \n",
    "              \"boost\": 20\n",
    "            }\n",
    "          }\n",
    "        }\n",
    "      ]\n",
    "    }\n",
    "  }\n",
    "}"
   ]
  },
  {
   "cell_type": "code",
   "execution_count": 45,
   "metadata": {},
   "outputs": [
    {
     "data": {
      "text/plain": [
       "{'About': '',\n",
       " 'Allergies & immunotoxicity': 0.0,\n",
       " 'Allergies/immunotoxicity Concerns': [],\n",
       " 'Allergies/immunotoxicity Reasons': [],\n",
       " 'Biochemical or cellular level changes Concerns': [],\n",
       " 'Biochemical or cellular level changes Reasons': [],\n",
       " 'Cancer': 0.0,\n",
       " 'Cancer Concerns': [],\n",
       " 'Cancer Reasons': [],\n",
       " 'Chemical release concerns Concerns': [],\n",
       " 'Chemical release concerns Reasons': [],\n",
       " 'Contamination concerns Concerns': [],\n",
       " 'Contamination concerns Reasons': [],\n",
       " 'Data gaps Concerns': ['7 studies in PubMed science library may include information on the toxicity of this chemical see search results ->'],\n",
       " 'Data gaps Reasons': ['NLM PubMed'],\n",
       " 'Decreased skin absorption Concerns': [],\n",
       " 'Decreased skin absorption Reasons': [],\n",
       " 'Developmental & reproductive toxicity': 0.0,\n",
       " 'Developmental/reproductive toxicity Concerns': [],\n",
       " 'Developmental/reproductive toxicity Reasons': [],\n",
       " 'Ecotoxicology Concerns': [],\n",
       " 'Ecotoxicology Reasons': [],\n",
       " 'Endocrine disruption Concerns': [],\n",
       " 'Endocrine disruption Reasons': [],\n",
       " 'Enhanced skin absorption Concerns': [],\n",
       " 'Enhanced skin absorption Reasons': [],\n",
       " 'Function(s)': 'PERFUMING',\n",
       " 'Irritation (skin, eyes, or lungs) Concerns': [],\n",
       " 'Irritation (skin, eyes, or lungs) Reasons': [],\n",
       " 'Miscellaneous Concerns': [],\n",
       " 'Miscellaneous Reasons': [],\n",
       " 'Multiple, additive exposure sources Concerns': [],\n",
       " 'Multiple, additive exposure sources Reasons': [],\n",
       " 'Neurotoxicity Concerns': [],\n",
       " 'Neurotoxicity Reasons': [],\n",
       " 'Occupational hazards Concerns': [],\n",
       " 'Occupational hazards Reasons': [],\n",
       " 'Organ system toxicity (non-reproductive) Concerns': [],\n",
       " 'Organ system toxicity (non-reproductive) Reasons': [],\n",
       " 'Overall Hazard': 19,\n",
       " 'PETA': '',\n",
       " 'Persistence and bioaccumulation Concerns': [],\n",
       " 'Persistence and bioaccumulation Reasons': [],\n",
       " 'Possible impurity in': '',\n",
       " 'Synonym(s)': 'FERULA ASSA FOETIDA ROOT EXTRACT',\n",
       " 'Use restrictions': 0.0,\n",
       " 'Use restrictions Concerns': [],\n",
       " 'Use restrictions Reasons': [],\n",
       " 'name': 'ferula assa foetida',\n",
       " 'name_1': 'ferula assa foetida',\n",
       " 'name_2': 'ferula assa foetida',\n",
       " 'name_3': 'ferula assa foetida',\n",
       " 'name_4': 'ferula assa foetida',\n",
       " 'name_bigrams': 'ferula_assa_foetida ferula_assa assa_foetida'}"
      ]
     },
     "execution_count": 45,
     "metadata": {},
     "output_type": "execute_result"
    }
   ],
   "source": [
    "es.search(\n",
    "    index='ingredient_2', \n",
    "    body=query\n",
    ")['hits']['hits'][0]['_source']"
   ]
  },
  {
   "cell_type": "code",
   "execution_count": null,
   "metadata": {
    "collapsed": true
   },
   "outputs": [],
   "source": []
  }
 ],
 "metadata": {
  "kernelspec": {
   "display_name": "Python 3",
   "language": "python",
   "name": "python3"
  },
  "language_info": {
   "codemirror_mode": {
    "name": "ipython",
    "version": 3
   },
   "file_extension": ".py",
   "mimetype": "text/x-python",
   "name": "python",
   "nbconvert_exporter": "python",
   "pygments_lexer": "ipython3",
   "version": "3.6.3"
  }
 },
 "nbformat": 4,
 "nbformat_minor": 2
}
